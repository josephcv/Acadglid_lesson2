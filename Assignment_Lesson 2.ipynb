{
 "cells": [
  {
   "cell_type": "code",
   "execution_count": 21,
   "metadata": {
    "scrolled": true
   },
   "outputs": [
    {
     "name": "stdout",
     "output_type": "stream",
     "text": [
      "Input numbers sequence separated by commas:456,678,123,1090,456\n",
      "['456', '678', '123', '1090', '456']\n",
      "<class 'list'>\n"
     ]
    }
   ],
   "source": [
    "# Assignment Problem 2.1\n",
    "\n",
    "ip = input(\"Input numbers sequence separated by commas:\")\n",
    "l=ip.split(',')\n",
    "print(l)\n",
    "print(type(l))\n"
   ]
  },
  {
   "cell_type": "code",
   "execution_count": 11,
   "metadata": {},
   "outputs": [
    {
     "name": "stdout",
     "output_type": "stream",
     "text": [
      "Enter pyramid height?6\n",
      "\n",
      "*\n",
      "**\n",
      "***\n",
      "****\n",
      "*****\n",
      "****\n",
      "***\n",
      "**\n",
      "*"
     ]
    }
   ],
   "source": [
    "# Assigment Problem 2.2\n",
    "\n",
    "var = input(\"Enter pyramid height?\")\n",
    "a=int(var)\n",
    "for i in range(1,a):\n",
    "    print ('')\n",
    "    for j in range(i):\n",
    "            print('*',end='')\n",
    "            j+=1      \n",
    "for x in range((a-2),0,-1):\n",
    "    print('')\n",
    "    for y in range(x):\n",
    "        print('*',end='')\n",
    "        y+=1"
   ]
  },
  {
   "cell_type": "code",
   "execution_count": 10,
   "metadata": {},
   "outputs": [
    {
     "name": "stdout",
     "output_type": "stream",
     "text": [
      "Input a word: Acadglid\n",
      "Reverse of Acadglid is: dilgdacA\n"
     ]
    }
   ],
   "source": [
    "# Assignment Problem 2.3\n",
    "\n",
    "l=input(\"Input a word: \")\n",
    "a=l[::-1]\n",
    "print(\"Reverse of\", l, \"is:\", a)\n"
   ]
  },
  {
   "cell_type": "code",
   "execution_count": 13,
   "metadata": {},
   "outputs": [
    {
     "name": "stdout",
     "output_type": "stream",
     "text": [
      "WE, THE PEOPLE OF INDIA,\n",
      " \thaving solemnly resolved to constitute India into a SOVEREIGN, !\n",
      " \t \tSOCIALIST, SECULAR, DEMOCRATIC REPUBLIC\n",
      " \t \tto secure to all its citizens\n"
     ]
    }
   ],
   "source": [
    "# Assignment Problem 2.4\n",
    "# Solution 1: Rudimentary Version\n",
    "\n",
    "s=\"WE, THE PEOPLE OF INDIA, having solemnly resolved to constitute India into a SOVEREIGN, SOCIALIST, SECULAR, DEMOCRATIC REPUBLIC and to secure to all its citizens\"\n",
    "list=s.split()\n",
    "\n",
    "#Spliting the string using index positions\n",
    "p1=list.index('INDIA,')\n",
    "line1=list[:p1+1]\n",
    "p2=list.index('SOVEREIGN,')\n",
    "line2=list[p1+1:p2+1]\n",
    "line2=line2+['!']\n",
    "p3=list.index('REPUBLIC')\n",
    "line3=list[p2+1:p3+1]\n",
    "line4=list[p3+2:]\n",
    "\n",
    "#Joining the list back into a string with formating\n",
    "l1=\" \".join(line1)\n",
    "l2=\" \".join(line2)\n",
    "l3=\" \".join(line3)\n",
    "l4=\" \".join(line4)\n",
    "print(l1)\n",
    "print(' \\t',end='')\n",
    "print(l2)\n",
    "print(' \\t \\t',end='')\n",
    "print(l3)\n",
    "print(' \\t \\t',end='')\n",
    "print(l4)\n",
    "\n"
   ]
  },
  {
   "cell_type": "code",
   "execution_count": 9,
   "metadata": {},
   "outputs": [
    {
     "name": "stdout",
     "output_type": "stream",
     "text": [
      "\n",
      "WE, THE PEOPLE OF INDIA, \n",
      "having solemnly resolved to constitute India into a \n",
      "SOVEREIGN, SOCIALIST, SECULAR, DEMOCRATIC REPUBLIC \n",
      "and to secure to all its citizens"
     ]
    }
   ],
   "source": [
    "# Assignment Problem 2.4\n",
    "# Solutions 2: Code based formatting where new line is inserted based on case change\n",
    "s= \"WE, THE PEOPLE OF INDIA, having solemnly resolved to constitute India into a SOVEREIGN, SOCIALIST, SECULAR, DEMOCRATIC REPUBLIC and to secure to all its citizens\"\n",
    "a=len(s)\n",
    "uc_nl=1\n",
    "for i in range(0,a):\n",
    "    b=s[i] \n",
    "    if b.isspace() is True:\n",
    "        print(b,end='')    \n",
    "    elif b.isupper() is True:\n",
    "        if b=='I':\n",
    "            print(b,end='')\n",
    "        else:\n",
    "            if uc_nl ==1:\n",
    "                print ('')\n",
    "                print (b,end='')\n",
    "                uc_nl=0\n",
    "                cnl=1\n",
    "            else:   \n",
    "                print(b,end='')      \n",
    "    elif b.islower() is True:\n",
    "        if cnl == 1:\n",
    "            print('')\n",
    "            print(b,end='')\n",
    "            cnl=0\n",
    "            uc_nl=1\n",
    "        else:\n",
    "            print(b,end='')\n",
    "    else:\n",
    "        print(b,end='')\n",
    "    "
   ]
  },
  {
   "cell_type": "code",
   "execution_count": null,
   "metadata": {
    "collapsed": true
   },
   "outputs": [],
   "source": []
  }
 ],
 "metadata": {
  "kernelspec": {
   "display_name": "Python 3",
   "language": "python",
   "name": "python3"
  },
  "language_info": {
   "codemirror_mode": {
    "name": "ipython",
    "version": 3
   },
   "file_extension": ".py",
   "mimetype": "text/x-python",
   "name": "python",
   "nbconvert_exporter": "python",
   "pygments_lexer": "ipython3",
   "version": "3.6.3"
  }
 },
 "nbformat": 4,
 "nbformat_minor": 2
}
